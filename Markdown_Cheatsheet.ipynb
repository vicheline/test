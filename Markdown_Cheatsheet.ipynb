{
 "cells": [
  {
   "cell_type": "markdown",
   "id": "34240788-1f56-4c65-9225-695f71abdb35",
   "metadata": {},
   "source": [
    "# Markdowns"
   ]
  },
  {
   "cell_type": "markdown",
   "id": "fef05b4b-f171-4f42-a96b-6a7fecf02bc6",
   "metadata": {},
   "source": [
    "## Headers"
   ]
  },
  {
   "cell_type": "markdown",
   "id": "1ff58bf6-f366-4c6c-a894-f51502ed3712",
   "metadata": {},
   "source": [
    "# H1\n",
    "## H2\n",
    "### H3\n",
    "#### H4\n",
    "##### H5\n",
    "###### H6\n",
    "\n",
    "Alternatively, for H1 and H2, an underline-ish style:\n",
    "\n",
    "Alt-H1\n",
    "======\n",
    "\n",
    "Alt-H2\n",
    "------\n"
   ]
  },
  {
   "cell_type": "markdown",
   "id": "5df0c598-a13b-4b67-b5f8-8164d0864a7a",
   "metadata": {},
   "source": [
    "## Emphasis"
   ]
  },
  {
   "cell_type": "markdown",
   "id": "a832c97a-64b9-4985-8e8b-5afb447343ef",
   "metadata": {},
   "source": [
    "Emphasis, aka italics, with *asterisks* or _underscores_.\n",
    "\n",
    "Strong emphasis, aka bold, with **asterisks** or __underscores__.\n",
    "\n",
    "Combined emphasis with **asterisks and _underscores_**.\n",
    "\n",
    "Strikethrough uses two tildes. ~~Scratch this.~~\n"
   ]
  },
  {
   "cell_type": "markdown",
   "id": "c30cd2b2-d797-4ea2-b3e5-2a16f7fa28c8",
   "metadata": {},
   "source": [
    "## Lists"
   ]
  },
  {
   "cell_type": "markdown",
   "id": "a47ff6f0-8c8e-4cbd-bf54-23c36170e81a",
   "metadata": {},
   "source": [
    "1. First ordered list item\n",
    "2. Another item\n",
    "  * Unordered sub-list. \n",
    "1. Actual numbers don't matter, just that it's a number\n",
    "  1. Ordered sub-list\n",
    "4. And another item.  \n",
    "   \n",
    "   Some text that should be aligned with the above item.\n",
    "\n",
    "* Unordered list can use asterisks\n",
    "- Or minuses\n",
    "+ Or pluses\n"
   ]
  },
  {
   "cell_type": "markdown",
   "id": "eee5a595-5b1f-4b21-a26c-6e88277b4489",
   "metadata": {},
   "source": [
    "## Links"
   ]
  },
  {
   "cell_type": "markdown",
   "id": "f548c7ac-5c7b-459d-9bb2-ad402b33327c",
   "metadata": {},
   "source": [
    "[I'm an inline-style link](https://www.google.com)\n",
    "\n",
    "[I'm a reference-style link][Arbitrary case-insensitive reference text]\n",
    "\n",
    "[You can use numbers for reference-style link definitions][1]\n",
    "\n",
    "Or leave it empty and use the [link text itself]\n",
    "\n",
    "URLs and URLs in angle brackets will automatically get turned into links. \n",
    "http://www.example.com or <http://www.example.com> and sometimes \n",
    "example.com (but not on Github, for example).\n",
    "\n",
    "Some text to show that the reference links can follow later.\n",
    "\n",
    "[arbitrary case-insensitive reference text]: https://www.mozilla.org\n",
    "[1]: http://slashdot.org\n",
    "[link text itself]: http://www.reddit.com\n"
   ]
  },
  {
   "cell_type": "markdown",
   "id": "7a45c938-676e-4bac-b138-3dd26d40db5c",
   "metadata": {},
   "source": [
    "## Images"
   ]
  },
  {
   "cell_type": "markdown",
   "id": "d246cbbc-15b8-4173-998b-a458c4333aad",
   "metadata": {},
   "source": [
    "Here's our logo (hover to see the title text):\n",
    "\n",
    "Inline-style: \n",
    "![alt text](https://github.com/adam-p/markdown-here/raw/master/src/common/images/icon48.png \"Logo Title Text 1\")\n",
    "\n",
    "Reference-style: \n",
    "![alt text][logo]\n",
    "\n",
    "[logo]: https://github.com/adam-p/markdown-here/raw/master/src/common/images/icon48.png \"Logo Title Text 2\"\n"
   ]
  },
  {
   "cell_type": "markdown",
   "id": "266b79b8-0a4a-4fa9-a92d-0d3ea1a706ed",
   "metadata": {},
   "source": [
    "## Code and Syntax Highlighting"
   ]
  },
  {
   "cell_type": "markdown",
   "id": "7e0d44cd-2004-4bc3-9677-009a62e0122c",
   "metadata": {},
   "source": [
    "Inline `code` has `back-ticks around` it.\n"
   ]
  },
  {
   "cell_type": "markdown",
   "id": "7db4fc26-ca31-4e0b-83e8-03c272aa1f58",
   "metadata": {},
   "source": [
    "```javascript\n",
    "var s = \"JavaScript syntax highlighting\";\n",
    "alert(s);\n",
    "```\n",
    " \n",
    "```python\n",
    "s = \"Python syntax highlighting\"\n",
    "print s\n",
    "```\n",
    " \n",
    "```\n",
    "No language indicated, so no syntax highlighting. \n",
    "But let's throw in a <b>tag</b>.\n",
    "```\n"
   ]
  },
  {
   "cell_type": "markdown",
   "id": "cfdaa5b8-9fbf-4f30-86f1-4f5927868df6",
   "metadata": {},
   "source": [
    "var s = \"JavaScript syntax highlighting\";\n",
    "alert(s);\n"
   ]
  },
  {
   "cell_type": "markdown",
   "id": "2b1c1937-3168-4a0f-b272-fb3aee8e4d1c",
   "metadata": {},
   "source": [
    "s = \"Python syntax highlighting\"\n",
    "print s\n"
   ]
  },
  {
   "cell_type": "markdown",
   "id": "d6835bcb-8c52-4f6f-9177-a17a9a39ae19",
   "metadata": {},
   "source": [
    "No language indicated, so no syntax highlighting in Markdown Here (varies on Github). \n",
    "But let's throw in a <b>tag</b>.\n"
   ]
  },
  {
   "cell_type": "markdown",
   "id": "da8a409d-b9a1-4eef-ad66-760bcd6f29fe",
   "metadata": {},
   "source": [
    "## Tables"
   ]
  },
  {
   "cell_type": "markdown",
   "id": "ab01ede3-bc51-4788-bb9d-4de4f0114d94",
   "metadata": {},
   "source": [
    "Colons can be used to align columns.\n",
    "\n",
    "| Tables        | Are           | Cool  |\n",
    "| ------------- |:-------------:| -----:|\n",
    "| col 3 is      | right-aligned | $1600 |\n",
    "| col 2 is      | centered      |   $12 |\n",
    "| zebra stripes | are neat      |    $1 |\n",
    "\n",
    "The outer pipes (|) are optional, and you don't need to make the raw Markdown line up prettily. You can also use inline Markdown.\n",
    "\n",
    "Markdown | Less | Pretty\n",
    "--- | --- | ---\n",
    "*Still* | `renders` | **nicely**\n",
    "1 | 2 | 3\n"
   ]
  },
  {
   "cell_type": "markdown",
   "id": "3e6b55b9-9dcb-4214-8d89-3ac48a1c0184",
   "metadata": {},
   "source": [
    "## Blockquotes"
   ]
  },
  {
   "cell_type": "markdown",
   "id": "ce1a62f0-8299-44ed-a343-e50c70c46bd3",
   "metadata": {},
   "source": [
    "> Blockquotes are very handy in email to emulate reply text.\n",
    "> This line is part of the same quote.\n",
    "\n",
    "Quote break.\n",
    "\n",
    "> This is a very long line that will still be quoted properly when it wraps. Oh boy let's keep writing to make sure this is long enough to actually wrap for everyone. Oh, you can *put* **Markdown** into a blockquote. \n"
   ]
  },
  {
   "cell_type": "markdown",
   "id": "f38775db-3613-4821-9c14-34b37ff60ae3",
   "metadata": {},
   "source": [
    "## Inline HTML"
   ]
  },
  {
   "cell_type": "markdown",
   "id": "1a145cdc-90df-4f78-8ff9-2adaf06ad15c",
   "metadata": {},
   "source": [
    "<dl>\n",
    "  <dt>Definition list</dt>\n",
    "  <dd>Is something people use sometimes.</dd>\n",
    "\n",
    "  <dt>Markdown in HTML</dt>\n",
    "  <dd>Does *not* work **very** well. Use HTML <em>tags</em>.</dd>\n",
    "</dl>\n"
   ]
  },
  {
   "cell_type": "markdown",
   "id": "a3ee560d-0ab7-4bbc-a235-34c4b48a386b",
   "metadata": {},
   "source": [
    "## Horizontal Rule"
   ]
  },
  {
   "cell_type": "markdown",
   "id": "5c070523-1c80-4f37-95ae-47cf916d8a86",
   "metadata": {},
   "source": [
    "Three or more...\n",
    "\n",
    "---\n",
    "\n",
    "Hyphens\n",
    "\n",
    "***\n",
    "\n",
    "Asterisks\n",
    "\n",
    "___\n",
    "\n",
    "Underscores\n"
   ]
  },
  {
   "cell_type": "markdown",
   "id": "a1bd8971-ebc4-488d-9962-c86c0f9eebf2",
   "metadata": {},
   "source": [
    "## Line Breaks"
   ]
  },
  {
   "cell_type": "markdown",
   "id": "cd062e21-7bb0-43b8-afa2-4a2fc5df2ffc",
   "metadata": {},
   "source": [
    "Here's a line for us to start with.\n",
    "\n",
    "This line is separated from the one above by two newlines, so it will be a *separate paragraph*.\n",
    "\n",
    "This line is also a separate paragraph, but...\n",
    "This line is only separated by a single newline, so it's a separate line in the *same paragraph*.\n"
   ]
  },
  {
   "cell_type": "markdown",
   "id": "2744abaf-d230-4703-991b-b9cb37bfc5d9",
   "metadata": {},
   "source": [
    "## YouTube Videos"
   ]
  },
  {
   "cell_type": "markdown",
   "id": "3d13566f-0edd-4cdc-8569-44250c62aee1",
   "metadata": {},
   "source": [
    "<a href=\"http://www.youtube.com/watch?feature=player_embedded&v=YOUTUBE_VIDEO_ID_HERE\n",
    "\" target=\"_blank\"><img src=\"http://img.youtube.com/vi/YOUTUBE_VIDEO_ID_HERE/0.jpg\" \n",
    "alt=\"IMAGE ALT TEXT HERE\" width=\"240\" height=\"180\" border=\"10\" /></a>\n"
   ]
  },
  {
   "cell_type": "markdown",
   "id": "fb5e7230-be1e-45ec-845a-fffd3f37054f",
   "metadata": {},
   "source": [
    "[![IMAGE ALT TEXT HERE](http://img.youtube.com/vi/YOUTUBE_VIDEO_ID_HERE/0.jpg)](http://www.youtube.com/watch?v=YOUTUBE_VIDEO_ID_HERE)\n"
   ]
  },
  {
   "cell_type": "markdown",
   "id": "85962c23-b923-492c-bcf2-2ed1cb8f0aee",
   "metadata": {},
   "source": [
    "## TeX Mathematical Formulae"
   ]
  },
  {
   "cell_type": "markdown",
   "id": "bbe016a6-36a7-46be-a0e9-53047749f79f",
   "metadata": {},
   "source": [
    "$-b \\pm \\sqrt{b^2 - 4ac} \\over 2a$\n",
    "$x = a_0 + \\frac{1}{a_1 + \\frac{1}{a_2 + \\frac{1}{a_3 + a_4}}}$\n",
    "$\\forall x \\in X, \\quad \\exists y \\leq \\epsilon$\n"
   ]
  }
 ],
 "metadata": {
  "kernelspec": {
   "display_name": "Python",
   "language": "python",
   "name": "conda-env-python-py"
  },
  "language_info": {
   "codemirror_mode": {
    "name": "ipython",
    "version": 3
   },
   "file_extension": ".py",
   "mimetype": "text/x-python",
   "name": "python",
   "nbconvert_exporter": "python",
   "pygments_lexer": "ipython3",
   "version": "3.7.10"
  }
 },
 "nbformat": 4,
 "nbformat_minor": 5
}
